{
 "cells": [
  {
   "cell_type": "raw",
   "metadata": {
    "slideshow": {
     "slide_type": "skip"
    }
   },
   "source": [
    "<style type=\"text/css\">\n",
    ".input_prompt, .input_area, .output_prompt {\n",
    "    display:none !important;\n",
    "}\n",
    "</style>\n",
    "\n",
    "<style type=\"text/css\">\n",
    ".reveal h1, .reveal h2, .reveal h3, .reveal h4{\n",
    "    font-family: \"ubuntu mono\"\n",
    "}\n",
    "</style>\n",
    "\n",
    "<style type=\"text/css\">\n",
    "  .reveal h2 { margin-left: 15px; }\n",
    "  .reveal h3 { margin-left: 30px; }\n",
    "  .reveal h4 { margin-left: 40px; }\n",
    "</style>\n",
    "\n",
    ".reveal {\n",
    "overflow: visible;\n",
    "}"
   ]
  },
  {
   "cell_type": "markdown",
   "metadata": {
    "slideshow": {
     "slide_type": "slide"
    }
   },
   "source": [
    "# <div align=\"center\"> Econ 2010-030: Principles of Microeconomics </div>\n",
    "##  <div align=\"center\"> Fall 2015 </div>\n",
    "## <div align=\"center\"> Instructor: Prof. Jeronimo Carballo </div>\n",
    "## <div align=\"center\"> Class: MWF 10:00am-10:50am  </div>\n",
    "## <div align=\"center\"> Location: RAMY C250  </div>\n",
    "\n"
   ]
  },
  {
   "cell_type": "markdown",
   "metadata": {
    "slideshow": {
     "slide_type": "subslide"
    }
   },
   "source": [
    "# Jeronimo Carballo\n",
    "## Home: http://spot.colorado.edu/~jeca1498/\n",
    "## Email: [jeronimo.carballo@colorado.edu](jeronimo.carballo@colorado.edu)\n",
    "## Office hours:\n",
    "### - Tuesday 1:30pm - 3:30pm at Econ 4D \n",
    "### - or by appointment\n",
    "\n",
    "\n"
   ]
  },
  {
   "cell_type": "code",
   "execution_count": 2,
   "metadata": {
    "collapsed": true,
    "slideshow": {
     "slide_type": "skip"
    }
   },
   "outputs": [],
   "source": [
    "class PDF(object):\n",
    "  def __init__(self, pdf, size=(200,200)):\n",
    "    self.pdf = pdf\n",
    "    self.size = size\n",
    "\n",
    "  def _repr_html_(self):\n",
    "    return '<iframe src={0} width={1[0]} height={1[1]}></iframe>'.format(self.pdf, self.size)\n",
    "\n",
    "  def _repr_latex_(self):\n",
    "    return r'\\includegraphics[width=1.0\\textwidth]{{{0}}}'.format(self.pdf)"
   ]
  },
  {
   "cell_type": "markdown",
   "metadata": {
    "slideshow": {
     "slide_type": "slide"
    }
   },
   "source": [
    "# Syllabus: \n",
    "\n",
    "\n",
    "## Link: http://spot.colorado.edu/~jeca1498/Teaching/\n",
    "## D2L (Desire2Learn): https://learn.colorado.edu/ "
   ]
  },
  {
   "cell_type": "code",
   "execution_count": 3,
   "metadata": {
    "collapsed": false,
    "scrolled": true,
    "slideshow": {
     "slide_type": "subslide"
    }
   },
   "outputs": [
    {
     "data": {
      "text/html": [
       "<iframe src=http://spot.colorado.edu/~jeca1498/Pdfs/Syllabus_Econ2010_F15.pdf width=1400 height=500></iframe>"
      ],
      "text/latex": [
       "\\includegraphics[width=1.0\\textwidth]{http://spot.colorado.edu/~jeca1498/Pdfs/Syllabus_Econ2010_F15.pdf}"
      ],
      "text/plain": [
       "<__main__.PDF at 0x7f11a1192bd0>"
      ]
     },
     "execution_count": 3,
     "metadata": {},
     "output_type": "execute_result"
    }
   ],
   "source": [
    "PDF('http://spot.colorado.edu/~jeca1498/Pdfs/Syllabus_Econ2010_F15.pdf',size=(1400,600))"
   ]
  },
  {
   "cell_type": "markdown",
   "metadata": {
    "slideshow": {
     "slide_type": "subslide"
    }
   },
   "source": [
    "# All the basic information is in the Syllabus. \n",
    "# Read Syllabus before sending email.\n",
    "\n"
   ]
  },
  {
   "cell_type": "markdown",
   "metadata": {
    "slideshow": {
     "slide_type": "slide"
    }
   },
   "source": [
    "# Recitations\n",
    " \n",
    "## - Once per week starting second week.\n",
    "## - Review material\n",
    "## - Get extra practice for exercises\n",
    "## - Solve past and (*some*) upcoming assignments\n",
    "## - Get extra help prior to exams\n",
    "  \n"
   ]
  },
  {
   "cell_type": "markdown",
   "metadata": {
    "slideshow": {
     "slide_type": "subslide"
    }
   },
   "source": [
    "# Recitations Sessions\n",
    "<img src=\"Econ2010_030_Recitations.png\"> "
   ]
  },
  {
   "cell_type": "markdown",
   "metadata": {
    "slideshow": {
     "slide_type": "subslide"
    }
   },
   "source": [
    "# TAs\n",
    "\n",
    "## Akhil Rao\n",
    "### Email: akhil.rao@colorado.edu\n",
    "### Office hours: Econ 414\n",
    "* Wednesday 1:30pm-3:30pm\n",
    "* Friday 8:00am-10:00am\n",
    "\n"
   ]
  },
  {
   "cell_type": "markdown",
   "metadata": {
    "slideshow": {
     "slide_type": "subslide"
    }
   },
   "source": [
    "\n",
    "## Jacob B. Howard\n",
    "### Email: jacob.b.howard@colorado.edu\n",
    "### Office hours:  Econ 401\n",
    "* Monday-Wednesday 11:00am - 12:00pm\n",
    "* Tuesday-Thursday 10:00am to 11:00am"
   ]
  },
  {
   "cell_type": "markdown",
   "metadata": {
    "slideshow": {
     "slide_type": "subslide"
    }
   },
   "source": [
    "# Check your enrollment for your assigned session\n",
    "# Recitations start next week!!"
   ]
  },
  {
   "cell_type": "markdown",
   "metadata": {
    "slideshow": {
     "slide_type": "slide"
    }
   },
   "source": [
    "# Office Hours\n",
    "\n",
    "## Come to the office hours not just the week of the exams!\n",
    "<img src=\"Econ2010_030_OfficeHours.png\"> \n"
   ]
  },
  {
   "cell_type": "markdown",
   "metadata": {
    "slideshow": {
     "slide_type": "slide"
    }
   },
   "source": [
    "# Textbook, Web Platform and Clicker\n",
    "\n",
    "## 1. Book:\n",
    "\n",
    "### Principles of Microeconomics by \n",
    "### Gregory Mankiw, 7th Edition (2015)\n",
    "\n"
   ]
  },
  {
   "cell_type": "markdown",
   "metadata": {
    "slideshow": {
     "slide_type": "subslide"
    }
   },
   "source": [
    "<img src=\"Econ2010_030_Mankiw.png\"> "
   ]
  },
  {
   "cell_type": "markdown",
   "metadata": {
    "slideshow": {
     "slide_type": "subslide"
    }
   },
   "source": [
    "## 2. Web Platform:\n",
    "\n",
    "### 2.1 Desire2Learn\n",
    "*  https://learn.colorado.edu/\n",
    "\n",
    "<img src=\"Econ2010_030_D2L.png\"> \n",
    "\n",
    "\n"
   ]
  },
  {
   "cell_type": "markdown",
   "metadata": {
    "slideshow": {
     "slide_type": "subslide"
    }
   },
   "source": [
    "### 2.2 MindTap\n",
    "#### - Weekly problem sets\n",
    "#### - Additional learning material\n",
    "#### - Login through Desire2Learn\n",
    "#### - Buy through CU Bookstore or Cengage\n",
    "#### - Temporary access while you decide whether to take the course\n",
    "#### - More on this later (last 15 minutes of the class)"
   ]
  },
  {
   "cell_type": "markdown",
   "metadata": {
    "slideshow": {
     "slide_type": "subslide"
    }
   },
   "source": [
    "## 3. Clicker:\n",
    "\n",
    "### We will use an i>clicker\n",
    "#### - Review examples\n",
    "#### - Solve in class exercises\n",
    "### CU Bookstore sells them\n",
    "### Can be used for any other course\n",
    "### Register your i>clicker at https://cuconnect.colorado.edu/uPortal/index.jsp\n",
    "### Bring it next class!!"
   ]
  },
  {
   "cell_type": "markdown",
   "metadata": {
    "slideshow": {
     "slide_type": "slide"
    }
   },
   "source": [
    "# Important Dates\n",
    "\n",
    "## - Midterm I: <font color=\"blue\"> Monday September 28th  during class time. </font>\n",
    "## - Midterm II: <font color=\"blue\"> Tuesday October 27th during class time. </font>\n",
    "## - Final Exam: <font color=\"blue\">Wednesday December 16th  4:30 pm - 7:30 pm.</font>"
   ]
  },
  {
   "cell_type": "markdown",
   "metadata": {
    "slideshow": {
     "slide_type": "slide"
    }
   },
   "source": [
    "# Grading\n",
    "\n",
    "\n",
    "## 1. Midterm I: <font  color=\"blue\"> 25% </font>\n",
    "\n",
    "## 2. Midterm II: <font  color=\"blue\"> 25%</font>\n",
    "\n",
    "## 3. Final: <font color=\"blue\">30% </font>\n",
    "\n",
    "## 4. MindTap Problem Sets:  <font color=\"blue\">15%</font>\n",
    "\n",
    "## 5. Clicker Questions:<font color=\"blue\">  5%</font>\n",
    "\n"
   ]
  },
  {
   "cell_type": "markdown",
   "metadata": {
    "slideshow": {
     "slide_type": "subslide"
    }
   },
   "source": [
    "# Grading\n",
    "\n",
    "\n",
    "## Midterms & Final \n",
    "\n",
    "### - Multiple choice \n",
    "### - Questions to graph and show the calculations.\n"
   ]
  },
  {
   "cell_type": "markdown",
   "metadata": {
    "slideshow": {
     "slide_type": "subslide"
    }
   },
   "source": [
    "# Grading\n",
    "\n",
    "## 4. MindTap Problem Sets:  <font color=\"blue\">15%</font>\n",
    "### - Best of three atempts for each question\n",
    "\n",
    "## 5. Clicker Questions:<font color=\"blue\">  5%</font>\n",
    "### - Drop the lowest 6 questions. \n",
    "\n"
   ]
  },
  {
   "cell_type": "markdown",
   "metadata": {
    "slideshow": {
     "slide_type": "slide"
    }
   },
   "source": [
    "# Rules of Conduct\n",
    "\n",
    "## 1. Academic Integrity\n",
    "\n",
    "* All students are responsible for knowing and adhering to policy regarding academic integrity. \n",
    "* Further information:\n",
    "     * http://www.colorado.edu/policies/academic-integrity-policy\n",
    "     * http://www.colorado.edu/policies/student-honor-code-policy\n",
    "     * http://honorcode.colorado.edu/\n",
    "        \n",
    "## 2. Electronics in Class\n",
    "\n",
    "* No cellphone usage in class.\n",
    "* Laptops only for course-related purposes. Please sit in last three rows of the lecture hall."
   ]
  },
  {
   "cell_type": "markdown",
   "metadata": {
    "slideshow": {
     "slide_type": "subslide"
    }
   },
   "source": [
    "# Electronics in Class \n",
    "\n",
    "* No cellphone usage in class.\n",
    "* Laptops only for course-related purposes. Please sit in last three rows of the lecture hall.\n",
    "\n",
    "##  Data analysis show that those who multitask frequently in-class have lower current college GPAs [(Bellur et al. [2015])](http://dx.doi.org/10.1016/j.chb.2015.06.027)\n",
    "##  Those who reported multitasking while doing homework spent more time spent studying outside of class [(Bellur et al. [2015])](http://dx.doi.org/10.1016/j.chb.2015.06.027)\n"
   ]
  },
  {
   "cell_type": "markdown",
   "metadata": {
    "slideshow": {
     "slide_type": "subslide"
    }
   },
   "source": [
    "# Electronics in Class \n",
    "\n",
    "##  All studies found that greater media use during class was related to lower academic outcomes: GPA, grades, course/lecture outcomes, homework outcomes.  [(van der Schuur et al [2015])](http://dx.doi.org/10.1016/j.chb.2015.06.035)\n",
    "## Using Facebook and texting while doing schoolwork is negatively associated with overall college  GPA [(Juncos and Cotten [2012])](http://dx.doi.org/10.1016/j.compedu.2011.12.023)\n",
    "\n"
   ]
  },
  {
   "cell_type": "markdown",
   "metadata": {
    "slideshow": {
     "slide_type": "slide"
    }
   },
   "source": [
    "# University Policies\n",
    "\n",
    "## 1. Disability Accomodations\n",
    "\n",
    "* Any student eligible for and needing academic adjustments or accommodations because of disability should submit to me a letter from Disability Services describing appropriate adjustments or accommodations and should arrange to meet with me as soon as possible so that arrangements can be made in a timely manner. \n",
    "* University policies regarding disabilities are available at http://disabilityservices.colorado.edu/\n",
    "* Disability Services can be contacted by telephone at 303- 492-8671, or in person at the Center for Community. "
   ]
  },
  {
   "cell_type": "markdown",
   "metadata": {
    "slideshow": {
     "slide_type": "subslide"
    }
   },
   "source": [
    "## 2. Religious Observance\n",
    "\n",
    "* Campus policy regarding religious observances requires that faculty make every effort to reasonably and fairly accommodate all students who, because of religious obligations, have conflicts with scheduled examinations, assignments or required attendance.\n",
    "* See full details at http://www.colorado.edu/policies/observance-religious-holidays-and-absences-classes-andor-exams\n",
    "* If you have scheduling conflict covered by this policy, please let me know as soon as possible so that we can reschedule the relevant assignment/examination."
   ]
  },
  {
   "cell_type": "markdown",
   "metadata": {
    "slideshow": {
     "slide_type": "subslide"
    }
   },
   "source": [
    "## 3. Harassment Policy\n",
    "* Policy on Discrimination and Harassment (http://www.colorado.edu/policies/discrimination-and-harassment-policy-and-procedures) aplies to all students, staff and faculty.\n",
    "* Contacts:\n",
    "    * Office of Discrimination and Harassment (ODH) at (303) 492-2127\n",
    "    * Office of Judicial Affairs at (303) 492-5550."
   ]
  },
  {
   "cell_type": "markdown",
   "metadata": {
    "slideshow": {
     "slide_type": "subslide"
    }
   },
   "source": [
    "\n",
    "## 4. Classroom Behavior\n",
    "* Students and faculty each have responsibility for maintaining an appropriate learning environment. \n",
    "* Students who fail to adhere to behavioral standards may be subject to discipline. \n",
    "* Faculty have the professional responsibility to treat students with understanding, dignity and respect, to guide classroom discussion and to set reasonable limits on the manner in which students express opinions. \n",
    "* University policies regarding classroom behavior are available at http://www.colorado.edu/policies/student-classroom-and-course-related-behavior"
   ]
  },
  {
   "cell_type": "markdown",
   "metadata": {
    "slideshow": {
     "slide_type": "slide"
    }
   },
   "source": [
    "## The slides are a webpage that is made with Jupyter (initially called IPython)\n",
    "<img src=\"Econ2010_030_Jupyter.png\"> \n",
    "### Open source software,  very interesting and useful, mostly for data analytics (Not needed for this course). You can read more at http://jupyter.org/\n"
   ]
  }
 ],
 "metadata": {
  "celltoolbar": "Slideshow",
  "kernelspec": {
   "display_name": "Python 2",
   "language": "python",
   "name": "python2"
  },
  "language_info": {
   "codemirror_mode": {
    "name": "ipython",
    "version": 2
   },
   "file_extension": ".py",
   "mimetype": "text/x-python",
   "name": "python",
   "nbconvert_exporter": "python",
   "pygments_lexer": "ipython2",
   "version": "2.7.10"
  }
 },
 "nbformat": 4,
 "nbformat_minor": 0
}
