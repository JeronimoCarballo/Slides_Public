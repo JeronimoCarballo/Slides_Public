{
 "cells": [
  {
   "cell_type": "markdown",
   "metadata": {
    "slideshow": {
     "slide_type": "slide"
    }
   },
   "source": [
    "# <div align=\"center\"> Econ 2010 </div>\n",
    "##  <div align=\"center\"> Fall 2015 </div>\n",
    "## <div align=\"center\"> Instructor: Jeronimo Carballo </div>\n",
    "## <div align=\"center\"> Class: MWF 10:00-10:50am  </div>\n",
    "## <div align=\"center\"> Location: RAMY C250  </div>\n",
    "## Test\n"
   ]
  },
  {
   "cell_type": "markdown",
   "metadata": {
    "slideshow": {
     "slide_type": "subslide"
    }
   },
   "source": [
    "# Jeronimo Carballo\n",
    "## Home: http://spot.colorado.edu/~jeca1498/\n",
    "## Email: [jeronimo.carballo@colorado.edu](jeronimo.carballo@colorado.edu)\n",
    "## Office hours: Tuesday 1:30pm - 3:30pm at Econ 4D or by appointment\n",
    "\n",
    "\n"
   ]
  },
  {
   "cell_type": "markdown",
   "metadata": {
    "slideshow": {
     "slide_type": "slide"
    }
   },
   "source": [
    "# Syllabus: \n",
    "\n",
    "==========================================================\n",
    "\n",
    "## Link: http://spot.colorado.edu/~jeca1498/Teaching/\n",
    "## D2L (Desire2Learn): https://learn.colorado.edu/ "
   ]
  },
  {
   "cell_type": "markdown",
   "metadata": {
    "slideshow": {
     "slide_type": "slide"
    }
   },
   "source": [
    "# TAs\n",
    "==========================================================\n",
    "## Akhil Rao\n",
    "### Email: akhil.rao@colorado.edu\n",
    "### Office hours: Econ XXXX\n",
    "* Monday-Wednesday XXXX\n",
    "* Tuesday-Thursday XXXX\n",
    "\n"
   ]
  },
  {
   "cell_type": "markdown",
   "metadata": {
    "slideshow": {
     "slide_type": "fragment"
    }
   },
   "source": [
    "\n",
    "## Jacob B. Howard\n",
    "### Email: jacob.b.howard@colorado.edu\n",
    "### Office hours:  Econ XXXX\n",
    "* Monday-Wednesday 11:00am - 12:00pm\n",
    "* Tuesday-Thursday 10:00am to 11:00am"
   ]
  },
  {
   "cell_type": "markdown",
   "metadata": {
    "slideshow": {
     "slide_type": "slide"
    }
   },
   "source": [
    "# Recitations\n",
    "==========================================================\n",
    " \n",
    "* Once per week starting second week.\n",
    "* Review material\n",
    "* Solve past and upcoming assignments\n",
    "* Get extra help prior to exams\n",
    "  \n"
   ]
  },
  {
   "cell_type": "markdown",
   "metadata": {
    "slideshow": {
     "slide_type": "fragment"
    }
   },
   "source": [
    "## Akhil Rao's Recitations\n",
    "  \n",
    "  * **Monday** 8:00-8:50 at\t*HLMS 251*\n",
    "  * **Monday** 4:00-4:50 at\t*HLMS 181*\n",
    "  * **Wednesday** 8:00-8:50 at *ECON 119 *\n",
    "  * **Wednesday** 4:00-4:50 at *HLMS 181 *\n",
    "\n"
   ]
  },
  {
   "cell_type": "markdown",
   "metadata": {
    "slideshow": {
     "slide_type": "fragment"
    }
   },
   "source": [
    "## Jacob Howard's Recitations\n",
    "\n",
    "  * **Monday** 3:00-3:50 at\t*ECON 13*\n",
    "  * **Monday** 5:00-5:50 at\t*HLMS 259*\n",
    "  * **Wednesday** 3:00-3:50 at *ECON 13 *\n",
    "  * **Wednesday** 5:00-6:50 at *ECON 2 *\n",
    "    \n",
    "\n",
    "    "
   ]
  },
  {
   "cell_type": "markdown",
   "metadata": {
    "slideshow": {
     "slide_type": "subslide"
    }
   },
   "source": [
    "# Check your enrollment for your assigned session\n",
    "# Recitations start next week!!"
   ]
  },
  {
   "cell_type": "markdown",
   "metadata": {
    "slideshow": {
     "slide_type": "slide"
    }
   },
   "source": [
    "# Textbook, Web Platform and Clicker\n",
    "==========================================================\n",
    "## 1. Book:\n",
    "\n",
    "### Principles of Microeconomics by \n",
    "### Gregory Mankiw, 7th Edition (2015)\n",
    "\n"
   ]
  },
  {
   "cell_type": "markdown",
   "metadata": {
    "slideshow": {
     "slide_type": "subslide"
    }
   },
   "source": [
    "## 3. Clicker:\n",
    "\n",
    "* We will use an i>clicker\n",
    "    * Review examples\n",
    "    * Solve in class exercises\n",
    "* CU Bookstore sells them\n",
    "* Register your i>clicker at https://cuconnect.colorado.edu/uPortal/index.jsp"
   ]
  },
  {
   "cell_type": "markdown",
   "metadata": {
    "slideshow": {
     "slide_type": "slide"
    }
   },
   "source": [
    "# Important Dates\n",
    "==========================================================\n",
    "## Midterm 1: <font color=\"blue\"> Monday September 28th  during class time. </font>\n",
    "## Midterm 2: <font color=\"blue\">Tuesday October 27th during class time.</font>\n",
    "## Final Exam: <font color=\"blue\">Wednesday December 16th  4:30 pm - 7:30 pm.</font>"
   ]
  },
  {
   "cell_type": "markdown",
   "metadata": {
    "slideshow": {
     "slide_type": "slide"
    }
   },
   "source": [
    "# Grading\n",
    "==========================================================\n",
    "\n",
    "* <font size = 6>Midterm 1: </font><font size = 6 color=\"blue\"> 25% </font>\n",
    "\n",
    "* <font size = 6>Midterm 2: </font><font size = 6 color=\"blue\"> 25%</font>\n",
    "\n",
    "* <font size = 6>Final: </font><font size = 6 color=\"blue\">30% </font>\n",
    "\n",
    "* <font size = 6>MindTap Problem Sets:</font>  <font size = 6 color=\"blue\">15%</font>\n",
    "\n",
    "* <font size = 6>Clicker Questions:</font><font size = 6 color=\"blue\">  5%</font>\n",
    "\n"
   ]
  },
  {
   "cell_type": "markdown",
   "metadata": {
    "slideshow": {
     "slide_type": "slide"
    }
   },
   "source": [
    "# Rules of Conduct\n",
    "==========================================================\n",
    "## 1. Academic Integrity\n",
    "\n",
    "* All students are responsible for knowing and adhering to policy regarding academic integrity. \n",
    "* Further information:\n",
    "     * http://www.colorado.edu/policies/academic-integrity-policy\n",
    "     * http://www.colorado.edu/policies/student-honor-code-policy\n",
    "     * http://honorcode.colorado.edu/\n",
    "        \n",
    "## 2. Electronics in Class\n",
    "\n",
    "* No cellphone usage in class.\n",
    "* Laptops only for course-related purposes. Please set in last three rows of the lecture hall."
   ]
  },
  {
   "cell_type": "markdown",
   "metadata": {
    "slideshow": {
     "slide_type": "slide"
    }
   },
   "source": [
    "# University Policies\n",
    "==========================================================\n",
    "## 1. Disability Accomodations\n",
    "\n",
    "* Any student eligible for and needing academic adjustments or accommodations because of disability should submit to me a letter from Disability Services describing appropriate adjustments or accommodations and should arrange to meet with me as soon as possible so that arrangements can be made in a timely manner. \n",
    "* University policies regarding disabilities are available at http://disabilityservices.colorado.edu/\n",
    "* Disability Services can be contacted by telephone at 303- 492-8671, or in person at the Center for Community. "
   ]
  },
  {
   "cell_type": "markdown",
   "metadata": {
    "slideshow": {
     "slide_type": "subslide"
    }
   },
   "source": [
    "## 2. Religious Observance\n",
    "\n",
    "* Campus policy regarding religious observances requires that faculty make every effort to reasonably and fairly accommodate all students who, because of religious obligations, have conflicts with scheduled examinations, assignments or required attendance.\n",
    "* See full details at http://www.colorado.edu/policies/observance-religious-holidays-and-absences-classes-andor-exams\n",
    "* If you have scheduling conflict covered by this policy, please let me know as soon as possible so that we can reschedule the relevant assignment/examination."
   ]
  },
  {
   "cell_type": "markdown",
   "metadata": {
    "slideshow": {
     "slide_type": "subslide"
    }
   },
   "source": [
    "## 3. Harassment Policy\n",
    "* Policy on Discrimination and Harassment (http://www.colorado.edu/policies/discrimination-and-harassment-policy-and-procedures) aplies to all students, staff and faculty.\n",
    "* Contacts:\n",
    "    * Office of Discrimination and Harassment (ODH) at (303) 492-2127\n",
    "    * Office of Judicial Affairs at (303) 492-5550."
   ]
  },
  {
   "cell_type": "markdown",
   "metadata": {
    "slideshow": {
     "slide_type": "subslide"
    }
   },
   "source": [
    "\n",
    "## 4. Classroom Behavior\n",
    "* Students and faculty each have responsibility for maintaining an appropriate learning environment. \n",
    "* Students who fail to adhere to behavioral standards may be subject to discipline. \n",
    "* Faculty have the professional responsibility to treat students with understanding, dignity and respect, to guide classroom discussion and to set reasonable limits on the manner in which students express opinions. \n",
    "* University policies regarding classroom behavior are available at http://www.colorado.edu/policies/student-classroom-and-course-related-behavior"
   ]
  }
 ],
 "metadata": {
  "celltoolbar": "Slideshow",
  "kernelspec": {
   "display_name": "Python 2",
   "language": "python",
   "name": "python2"
  },
  "language_info": {
   "codemirror_mode": {
    "name": "ipython",
    "version": 2
   },
   "file_extension": ".py",
   "mimetype": "text/x-python",
   "name": "python",
   "nbconvert_exporter": "python",
   "pygments_lexer": "ipython2",
   "version": "2.7.10"
  }
 },
 "nbformat": 4,
 "nbformat_minor": 0
}
